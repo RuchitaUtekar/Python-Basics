{
  "nbformat": 4,
  "nbformat_minor": 0,
  "metadata": {
    "colab": {
      "provenance": []
    },
    "kernelspec": {
      "name": "python3",
      "display_name": "Python 3"
    },
    "language_info": {
      "name": "python"
    }
  },
  "cells": [
    {
      "cell_type": "markdown",
      "source": [
        "#Basic Questions:\n"
      ],
      "metadata": {
        "id": "FjXPs9IvGSt1"
      }
    },
    {
      "cell_type": "markdown",
      "source": [
        "1. What is python and why is it popular?\n",
        "ANS:- Python is a programming language know for its simplicity and versatility and its widely used in various fields such as artificial intelligence, machine learning, web development etc.\n",
        "It is easy to understand.\n",
        "It is also a high level programming language.\n",
        "It is object-oriented programming language.\n",
        "It also provides security.\n",
        "It is free and open source that allowing anyone to use.\n",
        "It is a case-sensitive programming language meaning that variables like A and a are treated as different entities.\n",
        "It is portable that means code can run on different operating system without modification."
      ],
      "metadata": {
        "id": "aYd3gPizGlJX"
      }
    },
    {
      "cell_type": "markdown",
      "source": [
        "2. What is an interpreter in Python?\n",
        "ANS:- An interpreter is a program that reads and excute the code. In python, an interpreter read the code line by line and excute the program directly without compiled into machine language.It also translate python code into machine level language.\n"
      ],
      "metadata": {
        "id": "Qm3tfSOmI7ES"
      }
    },
    {
      "cell_type": "markdown",
      "source": [
        "3. What are pre-defined keywords in Python.\n",
        "ANS:- Keywords are reserved words that have special meaning and cannot be used as a indentifier's (variable name, function name, etc.,)\n",
        "find below list of keywords:\n",
        "in,True,False,none, else, elif, break, if, and, continue, def,del,in,is, None,not,or,while etc."
      ],
      "metadata": {
        "id": "sYrXofl8M1pM"
      }
    },
    {
      "cell_type": "markdown",
      "source": [
        "4. Can keywords be used as variable names?\n",
        "ANS:- No, We cant used keywords as variable names because the keywords are reserved words and that have special meaning. If we used keywords as a variable name then it will give syntax error."
      ],
      "metadata": {
        "id": "1UCWaP9hxN9Z"
      }
    },
    {
      "cell_type": "markdown",
      "source": [
        "5. What is mutability in Python?\n",
        "ANS:-Mutability described the object to be changed after its created. List(list), Dictionaries(dict), Sets(set) are the Mutable in python.  "
      ],
      "metadata": {
        "id": "WpMWOdp5x9jD"
      }
    },
    {
      "cell_type": "markdown",
      "source": [
        "6. Why are lists mutable, but tuples are immutable?\n",
        "ANS:- List: A built in data type that store set of values.\n",
        "It can be store elements of different types(integer, float, string, etc.).\n",
        "In python, list we can also modify, update and reorder the collection of elements.\n",
        "We can adding, removing, or changing items dynamically.\n",
        "List are mutable and that's why its not hashable.\n",
        "syntax= [ ]\n",
        "\n",
        "Tuple: A built in data type that let us create immutable sequence of values.\n",
        "Tuple are simpler and require less memory than list.\n",
        "It fixed collection of items.\n",
        "Tuple are immutable and they contain only hashable items.\n",
        "Tuple also ensure the stability.\n",
        "Syntax= ( )\n"
      ],
      "metadata": {
        "id": "-UAwLoNszlSS"
      }
    },
    {
      "cell_type": "markdown",
      "source": [
        "7. What is the difference between “==” and “is” operators in Python?\n",
        "ANS:- == : It's a relational or Comparison operator. It compares the value of an operands and decide the relation among them. If the two objects are different, == can return \"True\" if the values are same\n",
        "\n",
        "is : It's a identity operator. It compares the location of two objects. If two variables are same then is return \"True\" or if the two variables of an objects are different then is return \"False\"."
      ],
      "metadata": {
        "id": "IjzMAKA72cDM"
      }
    },
    {
      "cell_type": "markdown",
      "source": [
        "8. What are logical operators in Python?\n",
        "ANS:- Logical operator are used to evaluate expression and return boolen values.\n",
        "It also used in conditional statements like if, while.\n",
        "3 types of logical operator: NOT, AND, OR\n",
        "\n",
        "and: return True if the condition is true\n",
        "or: return at least one condition is True\n",
        "not: return the opposite of the boolean value of the condition."
      ],
      "metadata": {
        "id": "ijV9Vbje4xlS"
      }
    },
    {
      "cell_type": "markdown",
      "source": [
        "9. What is type casting in Python?\n",
        "ANS:- In python, it refers to converting one data type into another.\n",
        "\n",
        "Two types of type casting:\n",
        "Implicit type casting: It converts automatically. It convert automatically one data type to another to avoid errors.\n",
        "Explicit type casting: It converts manually.\n",
        "We used common function:\n",
        "int(): Converts to an integer.\n",
        "float(): Convert to float.\n",
        "str(): Convert to string.\n",
        "tuple(): Convert to tuple.\n",
        "list(): Convert to list.\n",
        "set(): Convert to set.\n",
        "\n",
        "\n"
      ],
      "metadata": {
        "id": "4hP6r-IR6p5g"
      }
    },
    {
      "cell_type": "markdown",
      "source": [
        "10. What is the difference between implicit and explicit type casting?\n",
        "Ans:Implicit type casting: It converts automatically. It convert automatically one data type to another to avoid errors.\n",
        "\n",
        "Explicit type casting: It converts manually. We used common function: int(): Converts to an integer. float(): Convert to float. str(): Convert to string. tuple(): Convert to tuple. list(): Convert to list. set(): Convert to set.It  \n",
        " may result in data loss or error if conversion is not valid."
      ],
      "metadata": {
        "id": "ezCr3gv590l4"
      }
    },
    {
      "cell_type": "markdown",
      "source": [
        "11. What is the purpose of conditional statements in Python?\n",
        "ANS:Python allows you to make decisions in your program based on the certain conditions. Its depending on whether the condition is True or False. The common conditional statement is if-elif-else statement.\n"
      ],
      "metadata": {
        "id": "-JOErHF-BaWj"
      }
    },
    {
      "cell_type": "markdown",
      "source": [
        "12. How does the elif statement work?\n",
        "ANS:- elif short of 'else if'. it allows you to check multiple conditions sequentially in program. if condition is false then the program evaluates elif condition until the condition is true. Once the condition is true then the block of code execute and remaining conditions are skipped."
      ],
      "metadata": {
        "id": "gx68cKjVCj43"
      }
    },
    {
      "cell_type": "markdown",
      "source": [
        "13.What is the difference between for and while loops?\n",
        "ANS:- While: It allows you to execute a block of code repeatedly as long as given condition is true. It controlled by a condition that is evaluated before each iteration.\n",
        "\n",
        "for: It used in sequential traversal. For traversing list, string, tuples, etc.\n"
      ],
      "metadata": {
        "id": "4emvYBx5Faph"
      }
    },
    {
      "cell_type": "markdown",
      "source": [
        "14. Describe a scenario where a while loop is more suitable than a for loop?\n",
        "ANS: A while loop is more suitable than a for loop when we don't know how many times we have to execute a block of code. A while loop are the best scenarios where the number of iterations depends on a condition that may change during program execution. Suppose we are writing a program that requires the user to enter the valid password. since we don't know how many attempts the user will need to enter the valid password , that time while loop is good choice.\n",
        "\n",
        "correct_password= \"india123\"\n",
        "user_input= \" \"\n",
        "while user_input != correct_password:\n",
        "     user_input=input(\"Enter the password\")\n",
        "     if user_input  == correct_password:\n",
        "      print(\"Successful\")\n",
        "  else:\n",
        "      print(\"Incorrect Password\")\n",
        "\n",
        "The while loop continues until the user provide the valid password."
      ],
      "metadata": {
        "id": "Z9Q3FVyNGswX"
      }
    },
    {
      "cell_type": "markdown",
      "source": [
        "#Practical Questions"
      ],
      "metadata": {
        "id": "J6hRUJtUMFCr"
      }
    },
    {
      "cell_type": "markdown",
      "source": [
        "1. Write a Python program to print \"Hello, World!\n"
      ],
      "metadata": {
        "id": "LFfitARDNzbe"
      }
    },
    {
      "cell_type": "code",
      "source": [
        "print(\"Hello, World!\")"
      ],
      "metadata": {
        "colab": {
          "base_uri": "https://localhost:8080/"
        },
        "id": "ef_l8JLGCd2o",
        "outputId": "d0ffee2e-ace4-440f-a274-4fa604feb118"
      },
      "execution_count": 2,
      "outputs": [
        {
          "output_type": "stream",
          "name": "stdout",
          "text": [
            "Hello, World!\n"
          ]
        }
      ]
    },
    {
      "cell_type": "markdown",
      "source": [
        "2. Write a Python program that displays your name and age."
      ],
      "metadata": {
        "id": "YFqHpk-KOG2d"
      }
    },
    {
      "cell_type": "code",
      "source": [
        "Name=\"Ruchita\"\n",
        "age= 29\n",
        "print(\"Name: \", Name)\n",
        "print(\"age: \", age)"
      ],
      "metadata": {
        "colab": {
          "base_uri": "https://localhost:8080/"
        },
        "id": "KjAHwpfP9zal",
        "outputId": "d72c0c01-0d60-487d-ceac-1df75a0a0896"
      },
      "execution_count": 9,
      "outputs": [
        {
          "output_type": "stream",
          "name": "stdout",
          "text": [
            "Name:  Ruchita\n",
            "age:  29\n"
          ]
        }
      ]
    },
    {
      "cell_type": "markdown",
      "source": [
        "3. Write code to print all the pre-defined keywords in Python using the keyword library.\n"
      ],
      "metadata": {
        "id": "K6s1abQJPBrn"
      }
    },
    {
      "cell_type": "code",
      "source": [
        "help(\"keywords\")"
      ],
      "metadata": {
        "colab": {
          "base_uri": "https://localhost:8080/"
        },
        "id": "LzPyB3K7PH9V",
        "outputId": "bf681a28-d1d4-4a58-829a-7d57d2ff2590"
      },
      "execution_count": 10,
      "outputs": [
        {
          "output_type": "stream",
          "name": "stdout",
          "text": [
            "\n",
            "Here is a list of the Python keywords.  Enter any keyword to get more help.\n",
            "\n",
            "False               class               from                or\n",
            "None                continue            global              pass\n",
            "True                def                 if                  raise\n",
            "and                 del                 import              return\n",
            "as                  elif                in                  try\n",
            "assert              else                is                  while\n",
            "async               except              lambda              with\n",
            "await               finally             nonlocal            yield\n",
            "break               for                 not                 \n",
            "\n"
          ]
        }
      ]
    },
    {
      "cell_type": "code",
      "source": [
        "import keyword\n",
        "print(\"Python kyewords: \")\n",
        "print(keyword.kwlist)"
      ],
      "metadata": {
        "colab": {
          "base_uri": "https://localhost:8080/"
        },
        "id": "defDI_SvQgts",
        "outputId": "e1692429-3052-4f7d-a3ad-d6669ea9e4b4"
      },
      "execution_count": 11,
      "outputs": [
        {
          "output_type": "stream",
          "name": "stdout",
          "text": [
            "Python kyewords: \n",
            "['False', 'None', 'True', 'and', 'as', 'assert', 'async', 'await', 'break', 'class', 'continue', 'def', 'del', 'elif', 'else', 'except', 'finally', 'for', 'from', 'global', 'if', 'import', 'in', 'is', 'lambda', 'nonlocal', 'not', 'or', 'pass', 'raise', 'return', 'try', 'while', 'with', 'yield']\n"
          ]
        }
      ]
    },
    {
      "cell_type": "markdown",
      "source": [
        "4. Write a program that checks if a given word is a Python keyword."
      ],
      "metadata": {
        "id": "ZeS7fvQSQ1Dd"
      }
    },
    {
      "cell_type": "code",
      "source": [
        "import keyword\n",
        "word= input(\"Enter a word to check if it is a Python keyword: \")\n",
        "if word in keyword.kwlist:\n",
        "  print(f\" '{word}' is a python keyword.\")\n",
        "else:\n",
        "  print(f\" '{word}' is not a python keyword.\"  )\n",
        ""
      ],
      "metadata": {
        "colab": {
          "base_uri": "https://localhost:8080/"
        },
        "id": "Ah_CAD9dQ6kg",
        "outputId": "adc64faf-826a-4f57-f028-2de5f4ee0022"
      },
      "execution_count": 17,
      "outputs": [
        {
          "output_type": "stream",
          "name": "stdout",
          "text": [
            "Enter a word to check if it is a Python keyword: True\n",
            " 'True' is a python keyword.\n"
          ]
        }
      ]
    },
    {
      "cell_type": "markdown",
      "source": [
        "5. Create a list and tuple in Python, and demonstrate how attempting to change an element works differently for each."
      ],
      "metadata": {
        "id": "MjqewKAqTB7i"
      }
    },
    {
      "cell_type": "code",
      "source": [
        "def modify_list(input_list):\n",
        "  if isinstance(input_list, list):\n",
        "    input_list[0]=10\n",
        "    return input_list\n",
        "  else:\n",
        "    return \"Input is not a list\"\n",
        "\n",
        "def modify_tuple(input_tuple):\n",
        "  if isinstance(input_tuple, tuple):\n",
        "    modified_tuple= input_tuple[:0] + (10,) + input_tuple[1:]\n",
        "    return modified_tuple\n",
        "  else:\n",
        "    return \"Input is not a tuple\"\n",
        "my_list= [1,2,3,4,5]\n",
        "my_tuple= (1,2,3,4,5)\n",
        "print(\"original list:\", my_list)\n",
        "modified_list = modify_list(my_list)\n",
        "print(\"Modified list:\", modified_list)\n",
        "print(\"\\noriginal tuple:\", my_tuple)\n",
        "modified_tuple = modify_tuple(my_tuple)\n",
        "print(\"Modified tuple attempt:\", modified_tuple)\n"
      ],
      "metadata": {
        "colab": {
          "base_uri": "https://localhost:8080/"
        },
        "id": "4D0Wc7QhS8vI",
        "outputId": "178ae3f8-8b7d-4706-baef-c67f2fdd76ac"
      },
      "execution_count": 21,
      "outputs": [
        {
          "output_type": "stream",
          "name": "stdout",
          "text": [
            "original list: [1, 2, 3, 4, 5]\n",
            "Modified list: [10, 2, 3, 4, 5]\n",
            "\n",
            "original tuple: (1, 2, 3, 4, 5)\n",
            "Modified tuple attempt: (10, 2, 3, 4, 5)\n"
          ]
        }
      ]
    },
    {
      "cell_type": "markdown",
      "source": [
        "6.Write a function to demonstrate the behavior of mutable and immutable arguments."
      ],
      "metadata": {
        "id": "eH6M-mOCeJB9"
      }
    },
    {
      "cell_type": "code",
      "source": [
        "def modify_arguments(mutable_list, immutable_tuple):\n",
        "  mutable_list.append(6)\n",
        "  print(\"Inside function (after modifying mutable list):\", mutable_list)\n",
        "  immutable_tuple = immutable_tuple + (6,)\n",
        "  print(\"Inside function(after attempting to modify immutable tuple):\", immutable_tuple)\n",
        "my_list= [1,2,3,4,5]\n",
        "my_tuple= (1,2,3,4,5)\n",
        "print(\"Original list:\", my_list)\n",
        "print(\"Original tuple:\", my_tuple)\n",
        "modify_arguments(my_list, my_tuple)\n",
        "print(\"Outside Function(after modifying mutable list):\", my_list)\n",
        "print(\"Outside function(after attempting to modify immutable tuple):\", my_tuple)"
      ],
      "metadata": {
        "colab": {
          "base_uri": "https://localhost:8080/"
        },
        "id": "QN4vfGFGeNnE",
        "outputId": "3bf7df8f-cd2b-4ed0-c55d-ed7596c226d4"
      },
      "execution_count": 25,
      "outputs": [
        {
          "output_type": "stream",
          "name": "stdout",
          "text": [
            "Original list: [1, 2, 3, 4, 5]\n",
            "Original tuple: (1, 2, 3, 4, 5)\n",
            "Inside function (after modifying mutable list): [1, 2, 3, 4, 5, 6]\n",
            "Inside function(after attempting to modify immutable tuple): (1, 2, 3, 4, 5, 6)\n",
            "Outside Function(after modifying mutable list): [1, 2, 3, 4, 5, 6]\n",
            "Outside function(after attempting to modify immutable tuple): (1, 2, 3, 4, 5)\n"
          ]
        }
      ]
    },
    {
      "cell_type": "markdown",
      "source": [
        "7. Write a function to demonstrate the behavior of mutable and immutable arguments.\n"
      ],
      "metadata": {
        "id": "oxHmfh_ZjBlF"
      }
    },
    {
      "cell_type": "code",
      "source": [
        "def modify_arguments(mutable_list, immutable_tuple):\n",
        "  mutable_list.append(6)\n",
        "  print(\"Inside function (after modifying mutable list):\", mutable_list)\n",
        "  immutable_tuple = immutable_tuple + (6,)\n",
        "  print(\"Inside function(after attempting to modify immutable tuple):\", immutable_tuple)\n",
        "my_list= [1,2,3,4,5]\n",
        "my_tuple= (1,2,3,4,5)\n",
        "print(\"Original list:\", my_list)\n",
        "print(\"Original tuple:\", my_tuple)\n",
        "modify_arguments(my_list, my_tuple)\n",
        "print(\"Outside Function(after modifying mutable list):\", my_list)\n",
        "print(\"Outside function(after attempting to modify immutable tuple):\", my_tuple)"
      ],
      "metadata": {
        "colab": {
          "base_uri": "https://localhost:8080/"
        },
        "id": "pZCPdZ7gjIC-",
        "outputId": "abfc98b8-2098-4f58-885e-f5b4aef89847"
      },
      "execution_count": 26,
      "outputs": [
        {
          "output_type": "stream",
          "name": "stdout",
          "text": [
            "Original list: [1, 2, 3, 4, 5]\n",
            "Original tuple: (1, 2, 3, 4, 5)\n",
            "Inside function (after modifying mutable list): [1, 2, 3, 4, 5, 6]\n",
            "Inside function(after attempting to modify immutable tuple): (1, 2, 3, 4, 5, 6)\n",
            "Outside Function(after modifying mutable list): [1, 2, 3, 4, 5, 6]\n",
            "Outside function(after attempting to modify immutable tuple): (1, 2, 3, 4, 5)\n"
          ]
        }
      ]
    },
    {
      "cell_type": "markdown",
      "source": [
        "8.Write a program to demonstrate the use of logical operators."
      ],
      "metadata": {
        "id": "6yc-AnK1jLv1"
      }
    },
    {
      "cell_type": "code",
      "source": [
        "a = True\n",
        "b= False\n",
        "x = 5\n",
        "y = 10\n",
        "\n",
        "if a and b:\n",
        "  print(\"a and b is True\")\n",
        "else:\n",
        "  print(\"a and b is False\")\n",
        "\n",
        "if a or b:\n",
        "  print(\"a or b is True\")\n",
        "else:\n",
        "  print(\"a or b is False\")\n",
        "\n",
        "if not a:\n",
        "  print(\"not a is True\")\n",
        "else:\n",
        "  print(\"not a is False\")\n",
        "\n",
        "if a and (x > 3 or y < 5 ):\n",
        "  print(\"a and (x > 3 or y < 5) is True\")\n",
        "else:\n",
        "  print(\"a and (x > 3 or y < 5) is False\")\n",
        "\n",
        "if (not a)  or (b and y > 5):\n",
        "  print(\"(not a) or (b and y > 5) is True\")\n",
        "else:\n",
        "  print(\"(not a) or (b and y > 5) is False\")"
      ],
      "metadata": {
        "colab": {
          "base_uri": "https://localhost:8080/"
        },
        "id": "o7kN3v8fi_oD",
        "outputId": "48df3ccd-cdfb-442d-9e87-38fd8b857e55"
      },
      "execution_count": 31,
      "outputs": [
        {
          "output_type": "stream",
          "name": "stdout",
          "text": [
            "a and b is False\n",
            "a or b is True\n",
            "not a is False\n",
            "a and (x > 3 or y < 5) is True\n",
            "(not a) or (b and y > 5) is False\n"
          ]
        }
      ]
    },
    {
      "cell_type": "markdown",
      "source": [
        "9.Write a Python program to convert user input from string to integer, float, and boolean types."
      ],
      "metadata": {
        "id": "t7Z1fjUToh3o"
      }
    },
    {
      "cell_type": "code",
      "source": [
        "user_input=input(\"Enter a value: \")\n",
        "if user_input.isdigit():\n",
        "  int_value = int(user_input)\n",
        "  print(\"Integer Value:\", int_value)\n",
        "else:\n",
        "  print(\"cannot convert to integer.\")\n",
        "\n",
        "if user_input.replace('.', '',1).isdigit():\n",
        "  float_value = float(user_input)\n",
        "  print(\"Float Value:\", float_value)\n",
        "else:\n",
        "  print(\"cannot convert to float.\")\n",
        "\n",
        "bool_value = bool(user_input)\n",
        "print(\"Boolean Value:\", bool_value)\n",
        "\n",
        "\n",
        "\n",
        ""
      ],
      "metadata": {
        "colab": {
          "base_uri": "https://localhost:8080/"
        },
        "id": "pYuiqfAqol_Z",
        "outputId": "fd4c98df-537c-4c5a-9a8f-828750e697c3"
      },
      "execution_count": 34,
      "outputs": [
        {
          "output_type": "stream",
          "name": "stdout",
          "text": [
            "Enter a value: 70.5\n",
            "cannot convert to integer.\n",
            "Float Value: 70.5\n",
            "Boolean Value: True\n"
          ]
        }
      ]
    },
    {
      "cell_type": "markdown",
      "source": [
        "10. Write code to demonstrate type casting with list elements."
      ],
      "metadata": {
        "id": "ZBJPP1SgtSBq"
      }
    },
    {
      "cell_type": "code",
      "source": [
        "string_list=[\"1\",\"True\", \"Hello\",\"4.6\",\"5\",\"56.8\"]\n",
        "int_list = []\n",
        "float_list = []\n",
        "bool_list = []\n",
        "for item in string_list:\n",
        "  if item.isdigit():\n",
        "      int_list.append(int(item))\n",
        "  elif item.replace('.','',1).isdigit():\n",
        "      float_list.append(float(item))\n",
        "  bool_list.append(bool(item))\n",
        "print(\"Original list: \", my_list)\n",
        "print(\"List of int:\", int_list)\n",
        "print(\"List of float:\", float_list)\n",
        "print(\"List of bool:\", bool_list)\n",
        "\n",
        "\n"
      ],
      "metadata": {
        "colab": {
          "base_uri": "https://localhost:8080/"
        },
        "id": "bCwhKcCttWyy",
        "outputId": "39024707-d895-4ab8-f1e1-15641f27fef2"
      },
      "execution_count": 36,
      "outputs": [
        {
          "output_type": "stream",
          "name": "stdout",
          "text": [
            "Original list:  ['1', 'True', 'Hello', '4.6', '5', '56.8']\n",
            "List of int: [1, 5]\n",
            "List of float: [4.6, 56.8]\n",
            "List of bool: [True, True, True, True, True, True]\n"
          ]
        }
      ]
    },
    {
      "cell_type": "markdown",
      "source": [
        "11.Write a program that checks if a number is positive, negative, or zero."
      ],
      "metadata": {
        "id": "pfJTeUZPv5Mw"
      }
    },
    {
      "cell_type": "code",
      "source": [
        "num=int(input(\"Enter the number:\"))\n",
        "if num > 0:\n",
        "   print(\"The number is positive.\")\n",
        "elif num < 0:\n",
        "  print(\"The number is negative.\")\n",
        "\n",
        "else:\n",
        "  print(\"The number is Zero.\")"
      ],
      "metadata": {
        "colab": {
          "base_uri": "https://localhost:8080/"
        },
        "id": "hRKsNF15wGyq",
        "outputId": "3f68d7b7-df5d-4a7a-c9f0-e356e65870ed"
      },
      "execution_count": 41,
      "outputs": [
        {
          "output_type": "stream",
          "name": "stdout",
          "text": [
            "Enter the number:-9\n",
            "The number is negative.\n"
          ]
        }
      ]
    },
    {
      "cell_type": "markdown",
      "source": [
        "12.Write a for loop to print numbers from 1 to 100."
      ],
      "metadata": {
        "id": "E7rTjZnkxEME"
      }
    },
    {
      "cell_type": "code",
      "source": [
        "for i in range(1,101):\n",
        "  print(i)\n",
        ""
      ],
      "metadata": {
        "colab": {
          "base_uri": "https://localhost:8080/"
        },
        "id": "wKDP1swTxKgp",
        "outputId": "48a2e965-8a11-488f-d496-2fc08c9353a6"
      },
      "execution_count": 49,
      "outputs": [
        {
          "output_type": "stream",
          "name": "stdout",
          "text": [
            "1\n",
            "2\n",
            "3\n",
            "4\n",
            "5\n",
            "6\n",
            "7\n",
            "8\n",
            "9\n",
            "10\n",
            "11\n",
            "12\n",
            "13\n",
            "14\n",
            "15\n",
            "16\n",
            "17\n",
            "18\n",
            "19\n",
            "20\n",
            "21\n",
            "22\n",
            "23\n",
            "24\n",
            "25\n",
            "26\n",
            "27\n",
            "28\n",
            "29\n",
            "30\n",
            "31\n",
            "32\n",
            "33\n",
            "34\n",
            "35\n",
            "36\n",
            "37\n",
            "38\n",
            "39\n",
            "40\n",
            "41\n",
            "42\n",
            "43\n",
            "44\n",
            "45\n",
            "46\n",
            "47\n",
            "48\n",
            "49\n",
            "50\n",
            "51\n",
            "52\n",
            "53\n",
            "54\n",
            "55\n",
            "56\n",
            "57\n",
            "58\n",
            "59\n",
            "60\n",
            "61\n",
            "62\n",
            "63\n",
            "64\n",
            "65\n",
            "66\n",
            "67\n",
            "68\n",
            "69\n",
            "70\n",
            "71\n",
            "72\n",
            "73\n",
            "74\n",
            "75\n",
            "76\n",
            "77\n",
            "78\n",
            "79\n",
            "80\n",
            "81\n",
            "82\n",
            "83\n",
            "84\n",
            "85\n",
            "86\n",
            "87\n",
            "88\n",
            "89\n",
            "90\n",
            "91\n",
            "92\n",
            "93\n",
            "94\n",
            "95\n",
            "96\n",
            "97\n",
            "98\n",
            "99\n",
            "100\n"
          ]
        }
      ]
    },
    {
      "cell_type": "markdown",
      "source": [
        "13. Write a Python program to find the sum of all even numbers between 1 and 50."
      ],
      "metadata": {
        "id": "N6BUyQMeyQ1L"
      }
    },
    {
      "cell_type": "code",
      "source": [
        "sum = 0\n",
        "for num in range(1, 51):\n",
        "   if num % 2 == 0:\n",
        "      sum += num\n",
        "print(\"The sum of all even numbers between 1 to 50 is:\", sum)"
      ],
      "metadata": {
        "colab": {
          "base_uri": "https://localhost:8080/"
        },
        "id": "86SPo6bQyPfd",
        "outputId": "fb94a6f7-bfcc-430c-d7ff-4bd0040b5de7"
      },
      "execution_count": 54,
      "outputs": [
        {
          "output_type": "stream",
          "name": "stdout",
          "text": [
            "The sum of all even numbers between 1 to 50 is: 650\n"
          ]
        }
      ]
    },
    {
      "cell_type": "markdown",
      "source": [
        "14.Write a program to reverse a string using a while loop."
      ],
      "metadata": {
        "id": "EmTs0s-q2MG8"
      }
    },
    {
      "cell_type": "code",
      "source": [
        "a = \"pwskills\"\n",
        "while len(a) > 0:\n",
        "  print(a[-1])\n",
        "  a= a[:-1]"
      ],
      "metadata": {
        "colab": {
          "base_uri": "https://localhost:8080/"
        },
        "id": "x2pggJAe2QGV",
        "outputId": "d3051ebd-89df-46d8-a616-49272214eab0"
      },
      "execution_count": 59,
      "outputs": [
        {
          "output_type": "stream",
          "name": "stdout",
          "text": [
            "s\n",
            "l\n",
            "l\n",
            "i\n",
            "k\n",
            "s\n",
            "w\n",
            "p\n"
          ]
        }
      ]
    },
    {
      "cell_type": "markdown",
      "source": [
        "15. Write a Python program to calculate the factorial of a number provided by the user using a while loop."
      ],
      "metadata": {
        "id": "k84rvvHo3NAt"
      }
    },
    {
      "cell_type": "code",
      "source": [
        "n = int(input(\"Enter a number:\"))\n",
        "fact = 1\n",
        "i = 1\n",
        "while i <= n:\n",
        "  fact *= i\n",
        "  i += 1\n",
        "print(\"factorial is:\", fact)"
      ],
      "metadata": {
        "colab": {
          "base_uri": "https://localhost:8080/"
        },
        "id": "nU9mc8QA3VM-",
        "outputId": "71286969-63e9-4660-e54b-430df6ef9ed7"
      },
      "execution_count": 63,
      "outputs": [
        {
          "output_type": "stream",
          "name": "stdout",
          "text": [
            "Enter a number:6\n",
            "factorial is: 720\n"
          ]
        }
      ]
    }
  ]
}